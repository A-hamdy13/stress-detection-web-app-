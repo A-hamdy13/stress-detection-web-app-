{
 "cells": [
  {
   "cell_type": "code",
   "execution_count": null,
   "metadata": {},
   "outputs": [
    {
     "name": "stdout",
     "output_type": "stream",
     "text": [
      "Model and scaler loaded successfully!\n",
      " * Serving Flask app '__main__'\n",
      " * Debug mode: off\n"
     ]
    },
    {
     "name": "stderr",
     "output_type": "stream",
     "text": [
      "WARNING: This is a development server. Do not use it in a production deployment. Use a production WSGI server instead.\n",
      " * Running on all addresses (0.0.0.0)\n",
      " * Running on http://127.0.0.1:5000\n",
      " * Running on http://172.20.10.10:5000\n",
      "Press CTRL+C to quit\n",
      "172.20.10.10 - - [12/May/2025 09:56:58] \"GET /data HTTP/1.1\" 200 -\n"
     ]
    },
    {
     "name": "stdout",
     "output_type": "stream",
     "text": [
      "Error reading log file: Expecting value: line 1 column 1 (char 0)\n"
     ]
    },
    {
     "name": "stderr",
     "output_type": "stream",
     "text": [
      "172.20.10.10 - - [12/May/2025 09:57:02] \"GET / HTTP/1.1\" 200 -\n",
      "172.20.10.10 - - [12/May/2025 09:57:02] \"GET /static/style.css HTTP/1.1\" 304 -\n",
      "172.20.10.10 - - [12/May/2025 09:57:02] \"GET /static/script.js HTTP/1.1\" 304 -\n",
      "172.20.10.10 - - [12/May/2025 09:57:02] \"GET /data HTTP/1.1\" 200 -\n"
     ]
    },
    {
     "name": "stdout",
     "output_type": "stream",
     "text": [
      "Error reading log file: Expecting value: line 1 column 1 (char 0)\n"
     ]
    },
    {
     "name": "stderr",
     "output_type": "stream",
     "text": [
      "172.20.10.10 - - [12/May/2025 09:57:03] \"GET /data HTTP/1.1\" 200 -\n"
     ]
    },
    {
     "name": "stdout",
     "output_type": "stream",
     "text": [
      "Error reading log file: Expecting value: line 1 column 1 (char 0)\n"
     ]
    },
    {
     "name": "stderr",
     "output_type": "stream",
     "text": [
      "172.20.10.10 - - [12/May/2025 09:57:07] \"GET /data HTTP/1.1\" 200 -\n"
     ]
    },
    {
     "name": "stdout",
     "output_type": "stream",
     "text": [
      "Error reading log file: Expecting value: line 1 column 1 (char 0)\n"
     ]
    },
    {
     "name": "stderr",
     "output_type": "stream",
     "text": [
      "172.20.10.10 - - [12/May/2025 09:57:08] \"GET /data HTTP/1.1\" 200 -\n"
     ]
    },
    {
     "name": "stdout",
     "output_type": "stream",
     "text": [
      "Error reading log file: Expecting value: line 1 column 1 (char 0)\n"
     ]
    },
    {
     "name": "stderr",
     "output_type": "stream",
     "text": [
      "172.20.10.10 - - [12/May/2025 09:57:12] \"GET /data HTTP/1.1\" 200 -\n"
     ]
    },
    {
     "name": "stdout",
     "output_type": "stream",
     "text": [
      "Error reading log file: Expecting value: line 1 column 1 (char 0)\n"
     ]
    },
    {
     "name": "stderr",
     "output_type": "stream",
     "text": [
      "172.20.10.10 - - [12/May/2025 09:57:13] \"GET /data HTTP/1.1\" 200 -\n"
     ]
    },
    {
     "name": "stdout",
     "output_type": "stream",
     "text": [
      "Error reading log file: Expecting value: line 1 column 1 (char 0)\n"
     ]
    },
    {
     "name": "stderr",
     "output_type": "stream",
     "text": [
      "172.20.10.10 - - [12/May/2025 09:57:17] \"GET /data HTTP/1.1\" 200 -\n"
     ]
    },
    {
     "name": "stdout",
     "output_type": "stream",
     "text": [
      "Error reading log file: Expecting value: line 1 column 1 (char 0)\n"
     ]
    },
    {
     "name": "stderr",
     "output_type": "stream",
     "text": [
      "172.20.10.10 - - [12/May/2025 09:57:18] \"GET /data HTTP/1.1\" 200 -\n"
     ]
    },
    {
     "name": "stdout",
     "output_type": "stream",
     "text": [
      "Error reading log file: Expecting value: line 1 column 1 (char 0)\n"
     ]
    },
    {
     "name": "stderr",
     "output_type": "stream",
     "text": [
      "172.20.10.10 - - [12/May/2025 09:57:22] \"GET /data HTTP/1.1\" 200 -\n"
     ]
    },
    {
     "name": "stdout",
     "output_type": "stream",
     "text": [
      "Error reading log file: Expecting value: line 1 column 1 (char 0)\n"
     ]
    },
    {
     "name": "stderr",
     "output_type": "stream",
     "text": [
      "172.20.10.10 - - [12/May/2025 09:57:23] \"GET /data HTTP/1.1\" 200 -\n"
     ]
    },
    {
     "name": "stdout",
     "output_type": "stream",
     "text": [
      "Error reading log file: Expecting value: line 1 column 1 (char 0)\n"
     ]
    },
    {
     "name": "stderr",
     "output_type": "stream",
     "text": [
      "172.20.10.10 - - [12/May/2025 09:57:27] \"GET /data HTTP/1.1\" 200 -\n"
     ]
    },
    {
     "name": "stdout",
     "output_type": "stream",
     "text": [
      "Error reading log file: Expecting value: line 1 column 1 (char 0)\n"
     ]
    },
    {
     "name": "stderr",
     "output_type": "stream",
     "text": [
      "172.20.10.10 - - [12/May/2025 09:57:28] \"GET /data HTTP/1.1\" 200 -\n"
     ]
    },
    {
     "name": "stdout",
     "output_type": "stream",
     "text": [
      "Error reading log file: Expecting value: line 1 column 1 (char 0)\n"
     ]
    },
    {
     "name": "stderr",
     "output_type": "stream",
     "text": [
      "172.20.10.10 - - [12/May/2025 09:57:32] \"GET /data HTTP/1.1\" 200 -\n"
     ]
    },
    {
     "name": "stdout",
     "output_type": "stream",
     "text": [
      "Error reading log file: Expecting value: line 1 column 1 (char 0)\n"
     ]
    },
    {
     "name": "stderr",
     "output_type": "stream",
     "text": [
      "172.20.10.10 - - [12/May/2025 09:57:33] \"GET /data HTTP/1.1\" 200 -\n"
     ]
    },
    {
     "name": "stdout",
     "output_type": "stream",
     "text": [
      "Error reading log file: Expecting value: line 1 column 1 (char 0)\n"
     ]
    },
    {
     "name": "stderr",
     "output_type": "stream",
     "text": [
      "172.20.10.10 - - [12/May/2025 09:57:37] \"GET /data HTTP/1.1\" 200 -\n"
     ]
    },
    {
     "name": "stdout",
     "output_type": "stream",
     "text": [
      "Error reading log file: Expecting value: line 1 column 1 (char 0)\n"
     ]
    },
    {
     "name": "stderr",
     "output_type": "stream",
     "text": [
      "172.20.10.10 - - [12/May/2025 09:57:38] \"GET /data HTTP/1.1\" 200 -\n"
     ]
    },
    {
     "name": "stdout",
     "output_type": "stream",
     "text": [
      "Error reading log file: Expecting value: line 1 column 1 (char 0)\n"
     ]
    },
    {
     "name": "stderr",
     "output_type": "stream",
     "text": [
      "172.20.10.10 - - [12/May/2025 09:57:42] \"GET /data HTTP/1.1\" 200 -\n"
     ]
    },
    {
     "name": "stdout",
     "output_type": "stream",
     "text": [
      "Error reading log file: Expecting value: line 1 column 1 (char 0)\n"
     ]
    },
    {
     "name": "stderr",
     "output_type": "stream",
     "text": [
      "172.20.10.10 - - [12/May/2025 09:57:43] \"GET /data HTTP/1.1\" 200 -\n"
     ]
    },
    {
     "name": "stdout",
     "output_type": "stream",
     "text": [
      "Error reading log file: Expecting value: line 1 column 1 (char 0)\n"
     ]
    },
    {
     "name": "stderr",
     "output_type": "stream",
     "text": [
      "172.20.10.10 - - [12/May/2025 09:57:47] \"GET /data HTTP/1.1\" 200 -\n"
     ]
    },
    {
     "name": "stdout",
     "output_type": "stream",
     "text": [
      "Error reading log file: Expecting value: line 1 column 1 (char 0)\n"
     ]
    },
    {
     "name": "stderr",
     "output_type": "stream",
     "text": [
      "172.20.10.10 - - [12/May/2025 09:57:52] \"GET /data HTTP/1.1\" 200 -\n"
     ]
    },
    {
     "name": "stdout",
     "output_type": "stream",
     "text": [
      "Error reading log file: Expecting value: line 1 column 1 (char 0)\n"
     ]
    },
    {
     "name": "stderr",
     "output_type": "stream",
     "text": [
      "172.20.10.10 - - [12/May/2025 09:57:57] \"GET /data HTTP/1.1\" 200 -\n"
     ]
    },
    {
     "name": "stdout",
     "output_type": "stream",
     "text": [
      "Error reading log file: Expecting value: line 1 column 1 (char 0)\n"
     ]
    },
    {
     "name": "stderr",
     "output_type": "stream",
     "text": [
      "172.20.10.10 - - [12/May/2025 09:58:02] \"GET /data HTTP/1.1\" 200 -\n"
     ]
    },
    {
     "name": "stdout",
     "output_type": "stream",
     "text": [
      "Error reading log file: Expecting value: line 1 column 1 (char 0)\n"
     ]
    },
    {
     "name": "stderr",
     "output_type": "stream",
     "text": [
      "172.20.10.10 - - [12/May/2025 09:58:31] \"GET /data HTTP/1.1\" 200 -\n",
      "172.20.10.10 - - [12/May/2025 09:58:31] \"GET /data HTTP/1.1\" 200 -\n"
     ]
    },
    {
     "name": "stdout",
     "output_type": "stream",
     "text": [
      "Error reading log file: Expecting value: line 1 column 1 (char 0)\n",
      "Error reading log file: Expecting value: line 1 column 1 (char 0)\n"
     ]
    },
    {
     "name": "stderr",
     "output_type": "stream",
     "text": [
      "172.20.10.10 - - [12/May/2025 09:59:31] \"GET /data HTTP/1.1\" 200 -\n",
      "172.20.10.10 - - [12/May/2025 09:59:31] \"GET /data HTTP/1.1\" 200 -\n"
     ]
    },
    {
     "name": "stdout",
     "output_type": "stream",
     "text": [
      "Error reading log file: Expecting value: line 1 column 1 (char 0)\n",
      "Error reading log file: Expecting value: line 1 column 1 (char 0)\n"
     ]
    },
    {
     "name": "stderr",
     "output_type": "stream",
     "text": [
      "172.20.10.10 - - [12/May/2025 10:00:31] \"GET /data HTTP/1.1\" 200 -\n",
      "172.20.10.10 - - [12/May/2025 10:00:31] \"GET /data HTTP/1.1\" 200 -\n",
      "172.20.10.10 - - [12/May/2025 10:01:31] \"GET /data HTTP/1.1\" 200 -\n",
      "172.20.10.10 - - [12/May/2025 10:01:31] \"GET /data HTTP/1.1\" 200 -\n",
      "172.20.10.10 - - [12/May/2025 10:02:31] \"GET /data HTTP/1.1\" 200 -\n",
      "172.20.10.10 - - [12/May/2025 10:02:31] \"GET /data HTTP/1.1\" 200 -\n"
     ]
    }
   ],
   "source": [
    "import json\n",
    "import datetime\n",
    "import numpy as np\n",
    "from flask import Flask, request, jsonify, render_template\n",
    "import torch\n",
    "from torch import nn\n",
    "import joblib\n",
    "import os\n",
    "import pandas as pd\n",
    "\n",
    "app = Flask(__name__)\n",
    "log_path = 'data/log.json'\n",
    "\n",
    "# Initialize empty data log\n",
    "if os.path.exists(log_path):\n",
    "    try:\n",
    "        with open(log_path, 'r') as f:\n",
    "            data_log = json.load(f)\n",
    "    except:\n",
    "        data_log = []\n",
    "else:\n",
    "    data_log = []\n",
    "    # Create directories if they don't exist\n",
    "    os.makedirs('data', exist_ok=True)\n",
    "    # Initialize log file with empty array\n",
    "    with open(log_path, 'w') as f:\n",
    "        json.dump(data_log, f)\n",
    "\n",
    "# Load model class and initialize\n",
    "class StressNN(nn.Module):\n",
    "    def __init__(self):\n",
    "        super(StressNN, self).__init__()\n",
    "        self.net = nn.Sequential(\n",
    "            nn.Linear(3, 64), nn.ReLU(), nn.Dropout(0.3),\n",
    "            nn.Linear(64, 32), nn.ReLU(), nn.Dropout(0.3),\n",
    "            nn.Linear(32, 16), nn.ReLU(), nn.Linear(16, 2)\n",
    "        )\n",
    "    \n",
    "    def forward(self, x):\n",
    "        return self.net(x)\n",
    "\n",
    "device = torch.device(\"cuda\" if torch.cuda.is_available() else \"cpu\")\n",
    "model = StressNN().to(device)\n",
    "\n",
    "# Load model and scaler\n",
    "try:\n",
    "    model.load_state_dict(torch.load('model/stress_model.pt')['model_state_dict'])\n",
    "    model.eval()\n",
    "    scaler = joblib.load('model/scaler.pkl')\n",
    "    print(\"Model and scaler loaded successfully!\")\n",
    "except Exception as e:\n",
    "    print(f\"Loading error: {str(e)}\")\n",
    "    from sklearn.preprocessing import StandardScaler\n",
    "    scaler = StandardScaler()\n",
    "    scaler.mean_ = np.zeros(3)\n",
    "    scaler.scale_ = np.ones(3)\n",
    "    print(\"Using default scaler since model loading failed.\")\n",
    "\n",
    "@app.route('/')\n",
    "def index():\n",
    "    return render_template('index.html')\n",
    "\n",
    "@app.route('/update', methods=['POST'])\n",
    "def update_data():\n",
    "    global data_log\n",
    "    try:\n",
    "        content = request.json\n",
    "        print(\"Received:\", content)\n",
    "        \n",
    "        # Store raw values directly\n",
    "        entry = {\n",
    "            'time': datetime.datetime.now().isoformat(),\n",
    "            'eda': float(content['eda_raw']),  # Store raw values\n",
    "            'temp': float(content['temp_raw']),\n",
    "            'hr': float(content['hr_raw']),\n",
    "            'stressed': 0  # Will be updated after prediction\n",
    "        }\n",
    "        \n",
    "        # Prepare features for prediction (use mapped values)\n",
    "        features = pd.DataFrame([[\n",
    "            float(content['eda']),\n",
    "            float(content['temp']),\n",
    "            float(content['hr'])\n",
    "        ]], columns=['EDA', 'TEMP', 'HR'])\n",
    "        \n",
    "        # Predict stress\n",
    "        try:\n",
    "            with torch.no_grad():\n",
    "                features_scaled = scaler.transform(features)\n",
    "                features_tensor = torch.tensor(features_scaled, dtype=torch.float32).to(device)\n",
    "                output = model(features_tensor)\n",
    "                entry['stressed'] = int(torch.argmax(output, dim=1).item())\n",
    "                print(f\"Prediction successful: stressed={entry['stressed']}\")\n",
    "        except Exception as model_error:\n",
    "            print(f\"Model prediction error: {str(model_error)}\")\n",
    "            # Use a default value in case of prediction error\n",
    "            entry['stressed'] = 0\n",
    "        \n",
    "        data_log.append(entry)\n",
    "        with open(log_path, 'w') as f:\n",
    "            json.dump(data_log, f)\n",
    "        \n",
    "        print(f\"Saved entry. Total entries: {len(data_log)}\")\n",
    "        return jsonify({'status': 'success', 'stressed': entry['stressed']})\n",
    "        \n",
    "    except Exception as e:\n",
    "        print(f\"Error in update_data: {str(e)}\")\n",
    "        return jsonify({'status': 'error', 'message': str(e)}), 400\n",
    "\n",
    "@app.route('/data')\n",
    "def get_data():\n",
    "    # Load data from file to ensure we have latest\n",
    "    try:\n",
    "        with open(log_path, 'r') as f:\n",
    "            latest_data = json.load(f)\n",
    "        return jsonify(latest_data)\n",
    "    except Exception as e:\n",
    "        print(f\"Error reading log file: {str(e)}\")\n",
    "        return jsonify([])\n",
    "\n",
    "def run_server():\n",
    "    os.makedirs('model', exist_ok=True)\n",
    "    os.makedirs('data', exist_ok=True)\n",
    "    \n",
    "    # Ensure log file exists\n",
    "    if not os.path.exists(log_path):\n",
    "        with open(log_path, 'w') as f:\n",
    "            json.dump([], f)\n",
    "    \n",
    "    app.run(host='0.0.0.0', port=5000, debug=False)\n",
    "\n",
    "if __name__ == '__main__':\n",
    "    run_server()"
   ]
  }
 ],
 "metadata": {
  "kernelspec": {
   "display_name": "Python (py310)",
   "language": "python",
   "name": "py310"
  },
  "language_info": {
   "codemirror_mode": {
    "name": "ipython",
    "version": 3
   },
   "file_extension": ".py",
   "mimetype": "text/x-python",
   "name": "python",
   "nbconvert_exporter": "python",
   "pygments_lexer": "ipython3",
   "version": "3.10.8"
  }
 },
 "nbformat": 4,
 "nbformat_minor": 2
}
